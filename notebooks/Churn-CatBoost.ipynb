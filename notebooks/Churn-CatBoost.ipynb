{
 "cells": [
  {
   "cell_type": "markdown",
   "metadata": {
    "pycharm": {
     "name": "#%% md\n"
    }
   },
   "source": [
    "# Customer Churning\n",
    "\n",
    "In this notebook I go through the process of evaluating different Classification Models. I end up using `CatBoost`, as\n",
    "it yielded the highest `recall` of all.\n",
    "\n",
    "## Disclaimer\n",
    "\n",
    "This notebook doesn't include an EDA nor any other type of analysis, given that I already submitted another\n",
    "[notebook](https://www.kaggle.com/augusto1982/credit-card-customers-analysis) for that.\n",
    "\n",
    "## Loading the data"
   ]
  },
  {
   "cell_type": "code",
   "execution_count": 156,
   "metadata": {
    "pycharm": {
     "name": "#%%\n"
    }
   },
   "outputs": [],
   "source": [
    "import pandas as pd\n",
    "import matplotlib.pyplot as plt\n",
    "import numpy as np\n",
    "\n",
    "from sklearn.experimental import enable_iterative_imputer\n",
    "from sklearn.impute import IterativeImputer\n",
    "\n",
    "from sklearn.inspection import permutation_importance\n",
    "from sklearn.preprocessing import RobustScaler\n",
    "from sklearn.model_selection import train_test_split, KFold, cross_validate, cross_val_score\n",
    "from sklearn.feature_selection import SelectFromModel\n",
    "from sklearn.metrics import confusion_matrix, recall_score, accuracy_score\n",
    "\n",
    "from sklearn.preprocessing import LabelEncoder, OneHotEncoder\n",
    "\n",
    "import seaborn as sns\n",
    "\n",
    "from sklearn.model_selection import GridSearchCV\n",
    "\n",
    "\n",
    "from sklearn.ensemble import ExtraTreesClassifier\n",
    "from sklearn.ensemble import RandomForestClassifier\n",
    "from sklearn.linear_model import LogisticRegression\n",
    "from sklearn.tree import DecisionTreeClassifier\n",
    "from sklearn.ensemble import RandomForestClassifier\n",
    "from sklearn.svm import SVC\n",
    "from sklearn.neighbors import KNeighborsClassifier\n",
    "from catboost import CatBoostClassifier\n",
    "from xgboost import XGBClassifier\n",
    "import xgboost as xgb"
   ]
  },
  {
   "cell_type": "code",
   "execution_count": 157,
   "metadata": {
    "pycharm": {
     "name": "#%%\n"
    }
   },
   "outputs": [
    {
     "data": {
      "text/plain": "   CLIENTNUM     Attrition_Flag  Customer_Age Gender  Dependent_count  \\\n0  768805383  Existing Customer            45      M                3   \n1  818770008  Existing Customer            49      F                5   \n2  713982108  Existing Customer            51      M                3   \n3  769911858  Existing Customer            40      F                4   \n4  709106358  Existing Customer            40      M                3   \n\n  Education_Level Marital_Status Income_Category Card_Category  \\\n0     High School        Married     $60K - $80K          Blue   \n1        Graduate         Single  Less than $40K          Blue   \n2        Graduate        Married    $80K - $120K          Blue   \n3     High School        Unknown  Less than $40K          Blue   \n4      Uneducated        Married     $60K - $80K          Blue   \n\n   Months_on_book  ...  Months_Inactive_12_mon  Contacts_Count_12_mon  \\\n0              39  ...                       1                      3   \n1              44  ...                       1                      2   \n2              36  ...                       1                      0   \n3              34  ...                       4                      1   \n4              21  ...                       1                      0   \n\n   Credit_Limit  Total_Revolving_Bal  Avg_Open_To_Buy  Total_Amt_Chng_Q4_Q1  \\\n0       12691.0                  777          11914.0                 1.335   \n1        8256.0                  864           7392.0                 1.541   \n2        3418.0                    0           3418.0                 2.594   \n3        3313.0                 2517            796.0                 1.405   \n4        4716.0                    0           4716.0                 2.175   \n\n   Total_Trans_Amt  Total_Trans_Ct  Total_Ct_Chng_Q4_Q1  Avg_Utilization_Ratio  \n0             1144              42                1.625                  0.061  \n1             1291              33                3.714                  0.105  \n2             1887              20                2.333                  0.000  \n3             1171              20                2.333                  0.760  \n4              816              28                2.500                  0.000  \n\n[5 rows x 21 columns]",
      "text/html": "<div>\n<style scoped>\n    .dataframe tbody tr th:only-of-type {\n        vertical-align: middle;\n    }\n\n    .dataframe tbody tr th {\n        vertical-align: top;\n    }\n\n    .dataframe thead th {\n        text-align: right;\n    }\n</style>\n<table border=\"1\" class=\"dataframe\">\n  <thead>\n    <tr style=\"text-align: right;\">\n      <th></th>\n      <th>CLIENTNUM</th>\n      <th>Attrition_Flag</th>\n      <th>Customer_Age</th>\n      <th>Gender</th>\n      <th>Dependent_count</th>\n      <th>Education_Level</th>\n      <th>Marital_Status</th>\n      <th>Income_Category</th>\n      <th>Card_Category</th>\n      <th>Months_on_book</th>\n      <th>...</th>\n      <th>Months_Inactive_12_mon</th>\n      <th>Contacts_Count_12_mon</th>\n      <th>Credit_Limit</th>\n      <th>Total_Revolving_Bal</th>\n      <th>Avg_Open_To_Buy</th>\n      <th>Total_Amt_Chng_Q4_Q1</th>\n      <th>Total_Trans_Amt</th>\n      <th>Total_Trans_Ct</th>\n      <th>Total_Ct_Chng_Q4_Q1</th>\n      <th>Avg_Utilization_Ratio</th>\n    </tr>\n  </thead>\n  <tbody>\n    <tr>\n      <th>0</th>\n      <td>768805383</td>\n      <td>Existing Customer</td>\n      <td>45</td>\n      <td>M</td>\n      <td>3</td>\n      <td>High School</td>\n      <td>Married</td>\n      <td>$60K - $80K</td>\n      <td>Blue</td>\n      <td>39</td>\n      <td>...</td>\n      <td>1</td>\n      <td>3</td>\n      <td>12691.0</td>\n      <td>777</td>\n      <td>11914.0</td>\n      <td>1.335</td>\n      <td>1144</td>\n      <td>42</td>\n      <td>1.625</td>\n      <td>0.061</td>\n    </tr>\n    <tr>\n      <th>1</th>\n      <td>818770008</td>\n      <td>Existing Customer</td>\n      <td>49</td>\n      <td>F</td>\n      <td>5</td>\n      <td>Graduate</td>\n      <td>Single</td>\n      <td>Less than $40K</td>\n      <td>Blue</td>\n      <td>44</td>\n      <td>...</td>\n      <td>1</td>\n      <td>2</td>\n      <td>8256.0</td>\n      <td>864</td>\n      <td>7392.0</td>\n      <td>1.541</td>\n      <td>1291</td>\n      <td>33</td>\n      <td>3.714</td>\n      <td>0.105</td>\n    </tr>\n    <tr>\n      <th>2</th>\n      <td>713982108</td>\n      <td>Existing Customer</td>\n      <td>51</td>\n      <td>M</td>\n      <td>3</td>\n      <td>Graduate</td>\n      <td>Married</td>\n      <td>$80K - $120K</td>\n      <td>Blue</td>\n      <td>36</td>\n      <td>...</td>\n      <td>1</td>\n      <td>0</td>\n      <td>3418.0</td>\n      <td>0</td>\n      <td>3418.0</td>\n      <td>2.594</td>\n      <td>1887</td>\n      <td>20</td>\n      <td>2.333</td>\n      <td>0.000</td>\n    </tr>\n    <tr>\n      <th>3</th>\n      <td>769911858</td>\n      <td>Existing Customer</td>\n      <td>40</td>\n      <td>F</td>\n      <td>4</td>\n      <td>High School</td>\n      <td>Unknown</td>\n      <td>Less than $40K</td>\n      <td>Blue</td>\n      <td>34</td>\n      <td>...</td>\n      <td>4</td>\n      <td>1</td>\n      <td>3313.0</td>\n      <td>2517</td>\n      <td>796.0</td>\n      <td>1.405</td>\n      <td>1171</td>\n      <td>20</td>\n      <td>2.333</td>\n      <td>0.760</td>\n    </tr>\n    <tr>\n      <th>4</th>\n      <td>709106358</td>\n      <td>Existing Customer</td>\n      <td>40</td>\n      <td>M</td>\n      <td>3</td>\n      <td>Uneducated</td>\n      <td>Married</td>\n      <td>$60K - $80K</td>\n      <td>Blue</td>\n      <td>21</td>\n      <td>...</td>\n      <td>1</td>\n      <td>0</td>\n      <td>4716.0</td>\n      <td>0</td>\n      <td>4716.0</td>\n      <td>2.175</td>\n      <td>816</td>\n      <td>28</td>\n      <td>2.500</td>\n      <td>0.000</td>\n    </tr>\n  </tbody>\n</table>\n<p>5 rows × 21 columns</p>\n</div>"
     },
     "execution_count": 157,
     "metadata": {},
     "output_type": "execute_result"
    }
   ],
   "source": [
    "df = pd.read_csv('../input/credit-card-customers/BankChurners.csv')\n",
    "df = df.iloc[:, :-2]\n",
    "\n",
    "# Setting the index\n",
    "df.set_index('CLIENTNUM', inplace=True)"
   ]
  },
  {
   "cell_type": "code",
   "execution_count": 159,
   "outputs": [],
   "source": [
    "# Replacing 'Unknown' values.\n",
    "categorical = ['Education_Level', 'Marital_Status', 'Income_Category']\n",
    "\n",
    "encoders = {}\n",
    "\n",
    "for cat in categorical:\n",
    "    encoder = LabelEncoder()\n",
    "    encoders[cat] = encoder\n",
    "    values = df[cat]\n",
    "    known_values = values[values != 'Unknown']\n",
    "    df[cat] = pd.Series( encoder.fit_transform(known_values), index=known_values.index)\n",
    "\n",
    "imp_cat = IterativeImputer(estimator=RandomForestClassifier(),\n",
    "                           initial_strategy='most_frequent',\n",
    "                           max_iter=10, random_state=0)\n",
    "\n",
    "\n",
    "df[categorical] = imp_cat.fit_transform(df[categorical])\n",
    "\n",
    "for cat in categorical:\n",
    "    df[cat] = encoders[cat].inverse_transform(df[cat].astype(int))\n"
   ],
   "metadata": {
    "collapsed": false,
    "pycharm": {
     "name": "#%%\n"
    }
   }
  },
  {
   "cell_type": "code",
   "execution_count": 160,
   "metadata": {
    "pycharm": {
     "name": "#%%\n"
    }
   },
   "outputs": [],
   "source": [
    "def make_categorical(data: pd.DataFrame, column: str, categories: list, ordered: bool = False):\n",
    "    data[column] = pd.Categorical(df[column],\n",
    "                                       categories=categories,\n",
    "                                       ordered=ordered)\n",
    "\n",
    "\n",
    "df['Attrition_Flag'] = df['Attrition_Flag'].map({'Attrited Customer':1, 'Existing Customer':0})\n",
    "\n",
    "make_categorical(df, 'Gender', ['F', 'M'])\n",
    "\n",
    "make_categorical(df, 'Education_Level', ['Uneducated', 'High School', 'Graduate', 'College', 'Post-Graduate', 'Doctorate'], True)\n",
    "\n",
    "make_categorical(df, 'Marital_Status', ['Married', 'Single', 'Divorced'])\n",
    "\n",
    "make_categorical(df, 'Income_Category', ['Less than $40K', '$40K - $60K', '$60K - $80K', '$80K - $120K', '$120K +'], True)\n",
    "\n",
    "make_categorical(df, 'Card_Category', ['Blue', 'Silver', 'Gold', 'Platinum'], True)"
   ]
  },
  {
   "cell_type": "markdown",
   "metadata": {},
   "source": [
    "## Adding additional columns"
   ]
  },
  {
   "cell_type": "code",
   "execution_count": 161,
   "outputs": [],
   "source": [
    "# These columns I added while doing the EDA.\n",
    "\n",
    "age_bins = [20, 40, 60, 80]\n",
    "age_labels = ['20 - 40', '40 - 60', '60 - 80']\n",
    "df['Age_Range'] = pd.cut(df['Customer_Age'], age_bins, labels=age_labels, ordered=True)\n",
    "\n",
    "df['No_Revolving_Bal'] = df['Total_Revolving_Bal'] == 0\n",
    "\n",
    "df['New_Customer'] = df['Months_on_book'] <= 24\n",
    "\n",
    "df['Optimal_Utilization'] = df['Avg_Utilization_Ratio'] <= 0.3\n",
    "\n",
    "# The next two columns I added after doing some Feature Selection analysis (more on that below).\n",
    "\n",
    "df['Avg_Transaction'] = df['Total_Trans_Amt'] / df['Total_Trans_Ct']\n",
    "\n",
    "def get_avg_q4_q1(row):\n",
    "    if row['Total_Ct_Chng_Q4_Q1'] == 0:\n",
    "        return 0\n",
    "    return row['Total_Amt_Chng_Q4_Q1'] / row['Total_Ct_Chng_Q4_Q1']\n",
    "\n",
    "\n",
    "df['Avg_Q4_Q1'] = df.apply(get_avg_q4_q1, axis=1)"
   ],
   "metadata": {
    "collapsed": false,
    "pycharm": {
     "name": "#%%\n"
    }
   }
  },
  {
   "cell_type": "markdown",
   "source": [
    "## Encoding the categorical variables"
   ],
   "metadata": {
    "collapsed": false,
    "pycharm": {
     "name": "#%% md\n"
    }
   }
  },
  {
   "cell_type": "code",
   "execution_count": 162,
   "outputs": [],
   "source": [
    "label_encoding_columns = ['Education_Level', 'Marital_Status']\n",
    "\n",
    "dummy_encoding_columns = ['Gender', 'Income_Category', 'Card_Category', 'Age_Range']\n",
    "\n",
    "df[label_encoding_columns]= df[label_encoding_columns].apply(LabelEncoder().fit_transform)\n",
    "df = pd.get_dummies(df, columns=dummy_encoding_columns, prefix=dummy_encoding_columns, drop_first=True)"
   ],
   "metadata": {
    "collapsed": false,
    "pycharm": {
     "name": "#%%\n"
    }
   }
  },
  {
   "cell_type": "markdown",
   "source": [
    "## Splitting the target and independent variables"
   ],
   "metadata": {
    "collapsed": false,
    "pycharm": {
     "name": "#%% md\n"
    }
   }
  },
  {
   "cell_type": "code",
   "execution_count": 163,
   "outputs": [],
   "source": [
    "X = df.iloc[:, 1:]\n",
    "y = df.iloc[:, 0]"
   ],
   "metadata": {
    "collapsed": false,
    "pycharm": {
     "name": "#%%\n"
    }
   }
  },
  {
   "cell_type": "markdown",
   "metadata": {
    "pycharm": {
     "name": "#%% md\n"
    }
   },
   "source": [
    "## Feature Selection\n",
    "\n",
    "Here I don't use Feature Selection for selecting a subset of relevant features, as that didn't improve the score of the model.\n",
    "Instead, I use it to determine which of the whole group turn out to be more relevant and see if there's any other column\n",
    "I create to reinforce the model.\n",
    "\n",
    "The process determined these are the most relevant:\n",
    "```\n",
    "[\n",
    "    'Total_Relationship_Count', 'Months_Inactive_12_mon', 'Contacts_Count_12_mon',\n",
    "    'Total_Revolving_Bal', 'Total_Amt_Chng_Q4_Q1', 'Total_Trans_Amt', 'Total_Trans_Ct',\n",
    "    'Total_Ct_Chng_Q4_Q1', 'No_Revolving_Bal'\n",
    "]\n",
    "```\n",
    "\n",
    "As we can see we have the columns regarding Q4/Q1, and the two for the total of transactions. Therefore, I decided\n",
    "to create two additional columns, as I previously mentioned (`Avg_Transaction` and `Avg_Q4_Q1`).\n"
   ]
  },
  {
   "cell_type": "code",
   "execution_count": 164,
   "outputs": [],
   "source": [
    "# forest = ExtraTreesClassifier(n_estimators=250)\n",
    "# forest.fit(X, y)\n",
    "#\n",
    "# feat_importances = pd.Series(forest.feature_importances_, index=X.columns).sort_values(ascending=False)\n",
    "#\n",
    "# sel = SelectFromModel(forest)\n",
    "# sel.fit(X, y)\n",
    "# selected_feat= X.columns[sel.get_support()]\n",
    "#\n",
    "# df_sel = df[selected_feat]"
   ],
   "metadata": {
    "collapsed": false,
    "pycharm": {
     "name": "#%%\n"
    }
   }
  },
  {
   "cell_type": "markdown",
   "source": [
    "## Scaling the data"
   ],
   "metadata": {
    "collapsed": false,
    "pycharm": {
     "name": "#%% md\n"
    }
   }
  },
  {
   "cell_type": "code",
   "execution_count": 165,
   "outputs": [],
   "source": [
    "X = RobustScaler().fit_transform(X)"
   ],
   "metadata": {
    "collapsed": false,
    "pycharm": {
     "name": "#%%\n"
    }
   }
  },
  {
   "cell_type": "markdown",
   "metadata": {
    "pycharm": {
     "name": "#%% md\n"
    }
   },
   "source": [
    "## Split into train and test sets"
   ]
  },
  {
   "cell_type": "code",
   "execution_count": 166,
   "outputs": [],
   "source": [
    "X_train, X_test, y_train, y_test = train_test_split(X, y, test_size=0.3, random_state=0, stratify=y)\n"
   ],
   "metadata": {
    "collapsed": false,
    "pycharm": {
     "name": "#%%\n"
    }
   }
  },
  {
   "cell_type": "markdown",
   "source": [
    "## Evaluate different models with K-Fold"
   ],
   "metadata": {
    "collapsed": false,
    "pycharm": {
     "name": "#%% md\n"
    }
   }
  },
  {
   "cell_type": "code",
   "execution_count": 167,
   "outputs": [
    {
     "name": "stdout",
     "output_type": "stream",
     "text": [
      "LR_model cross validation recall score: 0.6263 +/- 0.0275 (std) min: 0.596, max: 0.6708\n",
      "KNN_model cross validation recall score: 0.6068 +/- 0.0215 (std) min: 0.5895, max: 0.6436\n",
      "SVM_model cross validation recall score: 0.7056 +/- 0.0222 (std) min: 0.6843, max: 0.7426\n",
      "DT_model cross validation recall score: 0.8097 +/- 0.0282 (std) min: 0.7709, max: 0.8465\n",
      "RF_model cross validation recall score: 0.8334 +/- 0.0115 (std) min: 0.8232, max: 0.8515\n",
      "XGB_model cross validation recall score: 0.9169 +/- 0.0154 (std) min: 0.8995, max: 0.9356\n",
      "CXGB_model cross validation recall score: 0.9447 +/- 0.012 (std) min: 0.9314, max: 0.9629\n"
     ]
    }
   ],
   "source": [
    "base_models = [\n",
    "    (\"LR_model\", LogisticRegression(random_state=42,n_jobs=-1)),\n",
    "    (\"KNN_model\", KNeighborsClassifier(n_jobs=-1)),\n",
    "    (\"SVM_model\", SVC(random_state=42, kernel = 'rbf')),\n",
    "    (\"DT_model\", DecisionTreeClassifier(random_state=42)),\n",
    "    (\"RF_model\", RandomForestClassifier(random_state=42,n_jobs=-1)),\n",
    "    (\"XGB_model\", XGBClassifier(random_state=42, n_jobs=-1, scale_pos_weight=5)),\n",
    "    (\"CXGB_model\", CatBoostClassifier(random_state=42, auto_class_weights='Balanced'))\n",
    "]\n",
    "\n",
    "\n",
    "split = KFold(n_splits=4, shuffle=True, random_state=42)\n",
    "\n",
    "# Preprocessing, fitting, making predictions and scoring for every model:\n",
    "for name, model in base_models:\n",
    "\n",
    "    # get cross validation score for each model:\n",
    "    cv_results = cross_val_score(model,\n",
    "                                 X, y,\n",
    "                                 cv=split,\n",
    "                                 scoring=\"recall\",\n",
    "                                 n_jobs=-1)\n",
    "    # output:\n",
    "    min_score = round(min(cv_results), 4)\n",
    "    max_score = round(max(cv_results), 4)\n",
    "    mean_score = round(np.mean(cv_results), 4)\n",
    "    std_dev = round(np.std(cv_results), 4)\n",
    "    print(f\"{name} cross validation recall score: {mean_score} +/- {std_dev} (std) min: {min_score}, max: {max_score}\")"
   ],
   "metadata": {
    "collapsed": false,
    "pycharm": {
     "name": "#%%\n"
    }
   }
  },
  {
   "cell_type": "markdown",
   "source": [
    "As we can see, `CatBoost` seems to be the best option.\n",
    "\n",
    "## Search for optimal hyperparameters\n",
    "\n",
    "I commented the code below, given that it takes hours to run. Its execution produced the following combination of parameters:\n",
    "\n",
    "```\n",
    "{\n",
    "    'border_count': 100,\n",
    "    'depth': 6,\n",
    "    'iterations': 250,\n",
    "    'l2_leaf_reg': 100,\n",
    "    'learning_rate': 0.1\n",
    "}\n",
    "```\n",
    "\n",
    "However, I ran this before adding the last two columns, so I tweak them manually some more afterwards."
   ],
   "metadata": {
    "collapsed": false,
    "pycharm": {
     "name": "#%% md\n"
    }
   }
  },
  {
   "cell_type": "code",
   "execution_count": 168,
   "outputs": [],
   "source": [
    "# grid_params = {\n",
    "#     'depth':[4, 5, 6, 7, 8 ,9, 10],\n",
    "#     'iterations':[250, 500, 1000],\n",
    "#     'learning_rate':[0.001, 0.1, 0.2, 0.3],\n",
    "#     'l2_leaf_reg':[3, 5, 10, 100],\n",
    "#     'border_count':[10, 20, 50, 100],\n",
    "# }\n",
    "#\n",
    "# gd_sr = GridSearchCV(estimator=CatBoostClassifier(random_state=42, auto_class_weights='Balanced'),\n",
    "#                      param_grid=grid_params,\n",
    "#                      scoring='recall',\n",
    "#                      cv=5,\n",
    "#                      n_jobs=-1)\n",
    "#\n",
    "# gd_sr.fit(X_train, y_train)\n",
    "#\n",
    "# best_parameters = gd_sr.best_params_\n",
    "# print(best_parameters)"
   ],
   "metadata": {
    "collapsed": false,
    "pycharm": {
     "name": "#%%\n"
    }
   }
  },
  {
   "cell_type": "markdown",
   "source": [
    "## Construction and execution of the optimal? model"
   ],
   "metadata": {
    "collapsed": false,
    "pycharm": {
     "name": "#%% md\n"
    }
   }
  },
  {
   "cell_type": "code",
   "execution_count": 169,
   "outputs": [],
   "source": [
    "best_classifier = CatBoostClassifier(\n",
    "    random_state=42,\n",
    "    border_count=100,\n",
    "    depth=6,\n",
    "    iterations=140,\n",
    "    l2_leaf_reg=100,\n",
    "    learning_rate=0.1,\n",
    "    auto_class_weights='Balanced',\n",
    "    verbose=False\n",
    ")\n",
    "\n",
    "best_classifier.fit(X_train, y_train)\n",
    "y_pred = best_classifier.predict(X_test)"
   ],
   "metadata": {
    "collapsed": false,
    "pycharm": {
     "name": "#%%\n"
    }
   }
  },
  {
   "cell_type": "markdown",
   "source": [
    "## Confusion Matrix"
   ],
   "metadata": {
    "collapsed": false,
    "pycharm": {
     "name": "#%% md\n"
    }
   }
  },
  {
   "cell_type": "code",
   "execution_count": 170,
   "outputs": [
    {
     "name": "stdout",
     "output_type": "stream",
     "text": [
      "recall: 0.9405737704918032\n"
     ]
    },
    {
     "data": {
      "text/plain": "<Figure size 432x288 with 2 Axes>",
      "image/png": "[encoded data removed]"
     },
     "metadata": {
      "needs_background": "light"
     },
     "output_type": "display_data"
    }
   ],
   "source": [
    "cm = confusion_matrix(y_test, y_pred)\n",
    "recall = recall_score(y_test, y_pred)\n",
    "# labels = ['Survived', 'No Survived']\n",
    "ax = sns.heatmap(cm, annot=True)\n",
    "print(\"recall: {}\".format(recall))"
   ],
   "metadata": {
    "collapsed": false,
    "pycharm": {
     "name": "#%%\n"
    }
   }
  },
  {
   "cell_type": "markdown",
   "source": [
    "## K-Fold and CatBoost"
   ],
   "metadata": {
    "collapsed": false,
    "pycharm": {
     "name": "#%% md\n"
    }
   }
  },
  {
   "cell_type": "code",
   "execution_count": 171,
   "outputs": [
    {
     "data": {
      "text/plain": "0.960138389330299"
     },
     "execution_count": 171,
     "metadata": {},
     "output_type": "execute_result"
    }
   ],
   "source": [
    "\n",
    "np.mean(\n",
    "    cross_val_score(\n",
    "        best_classifier,\n",
    "        X,\n",
    "        y,\n",
    "        cv=split,\n",
    "        scoring=\"recall\",\n",
    "        n_jobs=-1)\n",
    ")\n",
    "\n"
   ],
   "metadata": {
    "collapsed": false,
    "pycharm": {
     "name": "#%%\n"
    }
   }
  }
 ],
 "metadata": {
  "kernelspec": {
   "display_name": "viper",
   "language": "python",
   "name": "viper"
  },
  "language_info": {
   "codemirror_mode": {
    "name": "ipython",
    "version": 3
   },
   "file_extension": ".py",
   "mimetype": "text/x-python",
   "name": "python",
   "nbconvert_exporter": "python",
   "pygments_lexer": "ipython3",
   "version": "3.7.9"
  }
 },
 "nbformat": 4,
 "nbformat_minor": 4
}